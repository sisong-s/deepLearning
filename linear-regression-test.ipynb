{
 "cells": [
  {
   "cell_type": "code",
   "execution_count": 1,
   "id": "cf11df2c-cb20-4cf0-bd53-2e0ec4a6417b",
   "metadata": {},
   "outputs": [],
   "source": [
    "import random\n",
    "import torch\n",
    "from d2l import torch as d2l"
   ]
  },
  {
   "cell_type": "code",
   "execution_count": 2,
   "id": "7e272cc0-3526-4293-8c23-041cdbedfb4b",
   "metadata": {},
   "outputs": [],
   "source": [
    "def synthetic_data(w, b, num):\n",
    "    X = torch.normal(0,1,(num, len(w)))\n",
    "    y = torch.matmul(X,w) + b\n",
    "    return X,y;\n"
   ]
  },
  {
   "cell_type": "code",
   "execution_count": 3,
   "id": "7cdcbf88-1cbf-4531-bd96-e520a80cbf60",
   "metadata": {},
   "outputs": [
    {
     "name": "stdout",
     "output_type": "stream",
     "text": [
      "tensor([[ 0.0383,  1.6482],\n",
      "        [ 0.6794,  1.7488],\n",
      "        [ 0.3071, -0.5048]]) \n",
      " tensor([-0.3763,  6.5384, -8.4533])\n"
     ]
    }
   ],
   "source": [
    "# 生成数据集\n",
    "true_w = torch.tensor([10.0,5.0])\n",
    "true_b = -9\n",
    "features, labels = synthetic_data(true_w, true_b, 1000)\n",
    "print(features[:3],'\\n',labels[:3])"
   ]
  },
  {
   "cell_type": "code",
   "execution_count": 4,
   "id": "c5287f8e-0c49-4918-bd64-16a899e97606",
   "metadata": {},
   "outputs": [],
   "source": [
    "# 读取数据集\n",
    "def data_iter(batch_size, features, labels):\n",
    "    num = len(features)\n",
    "    indices = list(range(num))\n",
    "    random.shuffle(indices)\n",
    "    for i in range(0, num, batch_size):\n",
    "        batch_indices = torch.tensor(indices[i:min(i + batch_size, num)])\n",
    "        yield features[batch_indices], labels[batch_indices]"
   ]
  },
  {
   "cell_type": "code",
   "execution_count": 5,
   "id": "e8c8a248-0e51-4a8e-a1e5-049efd027178",
   "metadata": {},
   "outputs": [
    {
     "name": "stdout",
     "output_type": "stream",
     "text": [
      "tensor([[-7.3671e-01,  1.2930e+00],\n",
      "        [-5.9924e-01,  5.6844e-01],\n",
      "        [ 4.3330e-01,  1.7135e+00],\n",
      "        [-3.6427e-04,  8.6274e-01],\n",
      "        [-5.4482e-01,  1.1255e+00],\n",
      "        [-9.9594e-01, -1.6810e+00],\n",
      "        [-6.8252e-01,  8.7013e-01],\n",
      "        [ 5.7838e-01,  1.6595e+00],\n",
      "        [ 1.8500e+00, -2.7463e-01],\n",
      "        [-1.7059e+00,  9.7535e-01]]) \n",
      " tensor([ -9.9020, -12.1502,   3.9003,  -4.6899,  -8.8208, -27.3641, -11.4745,\n",
      "          5.0815,   8.1272, -21.1819])\n"
     ]
    }
   ],
   "source": [
    "batch_size = 10\n",
    "for X, y in data_iter(batch_size, features, labels):\n",
    "    print(X, '\\n', y)\n",
    "    break"
   ]
  },
  {
   "cell_type": "code",
   "execution_count": 6,
   "id": "a550f68e-e70f-4fda-a86d-83fe4e1d10e2",
   "metadata": {},
   "outputs": [],
   "source": [
    "# 定义模型\n",
    "def linreg(X, w, b):\n",
    "    return torch.matmul(X, w) + b\n",
    "# 定义损失函数\n",
    "def squard_loss(y_hat, y):\n",
    "    return (y_hat - y.reshape(y_hat.shape)) ** 2 / 2"
   ]
  },
  {
   "cell_type": "code",
   "execution_count": 7,
   "id": "2506e66a-b059-4397-9e02-a6e31508af04",
   "metadata": {},
   "outputs": [],
   "source": [
    "# 定义优化算法\n",
    "def sgd(params, lr):\n",
    "    with torch.no_grad():\n",
    "        for param in params:\n",
    "            param -= lr * param.grad\n",
    "            param.grad.zero_()"
   ]
  },
  {
   "cell_type": "code",
   "execution_count": 8,
   "id": "e0946aef-3134-4f10-8813-5c71d12fe23c",
   "metadata": {},
   "outputs": [
    {
     "name": "stdout",
     "output_type": "stream",
     "text": [
      "wtensor([[ 0.0231],\n",
      "        [-0.0560]], requires_grad=True),btensor([1.], requires_grad=True)\n",
      "epoch1,loss:0.000000\n",
      "epoch2,loss:0.000000\n",
      "epoch3,loss:0.000000\n",
      "epoch4,loss:0.000000\n",
      "epoch5,loss:0.000000\n"
     ]
    }
   ],
   "source": [
    "# 初始化模型参数\n",
    "w = torch.normal(0, 0.1, (2,1),requires_grad = True)\n",
    "b = torch.ones(1, requires_grad = True)\n",
    "print(f'w{w},b{b}')\n",
    "# 训练\n",
    "lr = 1\n",
    "num_epochs = 5\n",
    "net = linreg\n",
    "loss = squard_loss\n",
    "for epoch in range(num_epochs):\n",
    "    for X, y in data_iter(batch_size, features, labels):\n",
    "        y_hat = net(X, w, b)\n",
    "        l = loss(y_hat, y)\n",
    "        l.mean().backward()\n",
    "        sgd([w, b], lr)\n",
    "    with torch.no_grad():\n",
    "        train_l = loss(net(features, w, b), labels)\n",
    "        print(f'epoch{epoch + 1},loss:{float(train_l.mean()):6f}')"
   ]
  },
  {
   "cell_type": "code",
   "execution_count": 9,
   "id": "52e7b1d2-26a8-4c5f-bbae-4907d5fb93bf",
   "metadata": {},
   "outputs": [
    {
     "name": "stdout",
     "output_type": "stream",
     "text": [
      "w: tensor([0., 0.], grad_fn=<SubBackward0>) tensor([[10.],\n",
      "        [ 5.]], requires_grad=True)\n",
      "b: tensor([0.], grad_fn=<RsubBackward1>) tensor([-9.], requires_grad=True)\n"
     ]
    }
   ],
   "source": [
    "print('w:',true_w - w.reshape(true_w.shape), w)\n",
    "print('b:',true_b - b,b)"
   ]
  },
  {
   "cell_type": "code",
   "execution_count": null,
   "id": "abec60b7-4978-48f7-9bb8-b1823171cb7f",
   "metadata": {},
   "outputs": [],
   "source": []
  }
 ],
 "metadata": {
  "kernelspec": {
   "display_name": "Python 3 (ipykernel)",
   "language": "python",
   "name": "python3"
  },
  "language_info": {
   "codemirror_mode": {
    "name": "ipython",
    "version": 3
   },
   "file_extension": ".py",
   "mimetype": "text/x-python",
   "name": "python",
   "nbconvert_exporter": "python",
   "pygments_lexer": "ipython3",
   "version": "3.9.23"
  }
 },
 "nbformat": 4,
 "nbformat_minor": 5
}
