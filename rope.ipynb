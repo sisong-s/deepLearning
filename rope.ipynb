{
 "cells": [
  {
   "cell_type": "code",
   "execution_count": 9,
   "id": "f85fbee2-53b5-4377-83d2-4bb4536cc7bd",
   "metadata": {},
   "outputs": [],
   "source": [
    "import torch \n",
    "import math\n",
    "\n",
    "def rope(X):\n",
    "    batch_size, seq_len, D = X.shape # 假设D为偶数\n",
    "    device = X.device\n",
    "    # 算频率\n",
    "    half_D = D // 2\n",
    "    k = torch.arange(half_D, dtype = torch.float32)\n",
    "    omega = 10000 ** (-2 * k / D)\n",
    "    \n",
    "    # 算旋转角度\n",
    "    positions = torch.arange(seq_len, dtype = torch.float32).unsqueeze(1)\n",
    "    theta = positions * omega.unsqueeze(0)\n",
    "    \n",
    "    sin_theta = torch.sin(theta)\n",
    "    cos_theta = torch.cos(theta)\n",
    "    \n",
    "    X_even = X[:, :, ::2]\n",
    "    X_odd = X[:, :, 1::2]\n",
    "    \n",
    "    sin_theta = sin_theta.unsqueeze(0)\n",
    "    cos_theta = cos_theta.unsqueeze(0)\n",
    "    \n",
    "    X_rotated_even = X_even * cos_theta - X_odd * sin_theta\n",
    "    X_rotated_odd = X_even * sin_theta + X_odd * cos_theta\n",
    "    \n",
    "    X_rotated = torch.zeros_like(X)\n",
    "    X_rotated[:, :, ::2] = X_rotated_even\n",
    "    X_rotated[:, :, 1::2] = X_rotated_odd\n",
    "\n",
    "    return X_rotated"
   ]
  },
  {
   "cell_type": "code",
   "execution_count": 21,
   "id": "9ea58e31-4071-4c37-830a-8564ff0f37bc",
   "metadata": {},
   "outputs": [
    {
     "name": "stdout",
     "output_type": "stream",
     "text": [
      "tensor([[[-0.8170, -0.4779, -1.0475,  2.2702,  0.6012,  1.1450, -1.2604,\n",
      "           1.0897],\n",
      "         [-0.5066, -0.2549,  0.7015,  0.6688,  0.9594,  1.5444,  0.7408,\n",
      "          -1.2212],\n",
      "         [ 2.0486, -1.3353, -0.2815,  0.9975,  1.7612,  0.2458, -0.9603,\n",
      "           0.2181],\n",
      "         [ 0.5611,  0.8523, -1.0063, -1.1259, -1.1981, -1.4968,  1.2107,\n",
      "          -0.9057],\n",
      "         [-1.0016, -0.2457,  1.0376,  0.0800, -0.3436, -0.6141,  1.2578,\n",
      "           0.3163]],\n",
      "\n",
      "        [[ 0.7772,  1.2440,  0.7100,  1.6108,  0.2929,  0.6903,  0.2893,\n",
      "           1.6307],\n",
      "         [-0.2647,  1.8713,  0.3591, -1.1340,  0.2776,  0.0656,  0.0433,\n",
      "          -2.3983],\n",
      "         [-1.0501,  1.2874, -0.4278,  0.0693,  0.8855, -1.0952,  0.6083,\n",
      "           1.4694],\n",
      "         [ 0.3900, -1.7760, -1.2392, -2.4539,  0.5714,  0.4796, -0.3619,\n",
      "          -1.0705],\n",
      "         [-0.2535, -1.0494, -1.9634, -0.3242,  0.1810, -0.5950, -0.1684,\n",
      "           0.0545]]]) \n",
      " tensor([[[-0.8170, -0.4779, -1.0475,  2.2702,  0.6012,  1.1450, -1.2604,\n",
      "           1.0897],\n",
      "         [-0.0592, -0.5641,  0.6312,  0.7355,  0.9439,  1.5539,  0.7420,\n",
      "          -1.2204],\n",
      "         [ 0.3617,  2.4184, -0.4741,  0.9217,  1.7559,  0.2809, -0.9607,\n",
      "           0.2161],\n",
      "         [-0.6757, -0.7646, -0.6287, -1.3730, -1.1526, -1.5321,  1.2134,\n",
      "          -0.9020],\n",
      "         [ 0.4687,  0.9186,  0.9245,  0.4777, -0.3188, -0.6273,  1.2565,\n",
      "           0.3213]],\n",
      "\n",
      "        [[ 0.7772,  1.2440,  0.7100,  1.6108,  0.2929,  0.6903,  0.2893,\n",
      "           1.6307],\n",
      "         [-1.7176,  0.7883,  0.4706, -1.0924,  0.2769,  0.0684,  0.0457,\n",
      "          -2.3982],\n",
      "         [-0.7336, -1.4906, -0.4330, -0.0170,  0.9072, -1.0773,  0.6053,\n",
      "           1.4706],\n",
      "         [-0.1355,  1.8132, -0.4587, -2.7105,  0.5568,  0.4965, -0.3587,\n",
      "          -1.0716],\n",
      "         [-0.6285,  0.8778, -1.6821, -1.0632,  0.2046, -0.5872, -0.1686,\n",
      "           0.0538]]])\n"
     ]
    }
   ],
   "source": [
    "batch_size = 2\n",
    "seq_len = 5\n",
    "D = 8\n",
    "X = torch.randn(batch_size, seq_len, D)\n",
    "X_rope = rope(X)\n",
    "\n",
    "print(X, '\\n', X_rope)"
   ]
  },
  {
   "cell_type": "code",
   "execution_count": null,
   "id": "936c8920-a0cd-4b12-8a2c-d911940fbbd2",
   "metadata": {},
   "outputs": [],
   "source": []
  }
 ],
 "metadata": {
  "kernelspec": {
   "display_name": "Python 3 (ipykernel)",
   "language": "python",
   "name": "python3"
  },
  "language_info": {
   "codemirror_mode": {
    "name": "ipython",
    "version": 3
   },
   "file_extension": ".py",
   "mimetype": "text/x-python",
   "name": "python",
   "nbconvert_exporter": "python",
   "pygments_lexer": "ipython3",
   "version": "3.9.7"
  }
 },
 "nbformat": 4,
 "nbformat_minor": 5
}
