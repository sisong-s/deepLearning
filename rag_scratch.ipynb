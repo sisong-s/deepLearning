{
 "cells": [
  {
   "cell_type": "markdown",
   "id": "eeb30cc3-e451-4989-bfab-572290b859da",
   "metadata": {},
   "source": [
    "环境准备\n",
    "%pip install datasets langchain sentence_transformers tqdm chromadb langchain_wenxin"
   ]
  },
  {
   "cell_type": "code",
   "execution_count": 1,
   "id": "5a8232bb-6bd9-4dc5-a376-6459a3701e7b",
   "metadata": {},
   "outputs": [
    {
     "data": {
      "text/plain": [
       "[Document(metadata={'source': 'C:\\\\Users\\\\administered\\\\ai\\\\deepLearning\\\\li.txt'}, page_content='藜（读音lí）麦（Chenopodium\\\\xa0quinoa\\\\xa0Willd.）是藜科藜属植物。穗部可呈红、紫、黄，植株形状类似灰灰菜，成熟后穗部类似高粱穗。植株大小受环境及遗传因素影响较大，从0.3-3米不等，茎部质地较硬，可分枝可不分。单叶互生，叶片呈鸭掌状，叶缘分为全缘型与锯齿缘型。藜麦花两性，花序呈伞状、穗状、圆锥状，藜麦种子较小，呈小圆药片状，直径1.5-2毫米，千粒重1.4-3克。\\\\xa0[1]\\\\xa0\\\\n原产于南美洲安第斯山脉的哥伦比亚、厄瓜多尔、秘鲁等中高海拔山区。具有一定的耐旱、耐寒、耐盐性，生长范围约为海平面到海拔4500米左右的高原上，最适的高度为海拔3000-4000米的高原或山地地区。\\\\xa0[1]\\\\xa0\\\\n藜麦富含的维生素、多酚、类黄酮类、皂苷和植物甾醇类物质具有多种健康功效。')]"
      ]
     },
     "execution_count": 1,
     "metadata": {},
     "output_type": "execute_result"
    }
   ],
   "source": [
    "# 本地数据加载\n",
    "from langchain.document_loaders import TextLoader\n",
    "loader = TextLoader(\"C:\\\\Users\\\\administered\\\\ai\\\\deepLearning\\\\li.txt\", encoding=\"utf-8\")\n",
    "documents = loader.load()\n",
    "documents"
   ]
  },
  {
   "cell_type": "code",
   "execution_count": 3,
   "id": "b74228d6-edcb-48cc-a4fa-6bd92ebf1a58",
   "metadata": {},
   "outputs": [
    {
     "name": "stdout",
     "output_type": "stream",
     "text": [
      "359\n"
     ]
    }
   ],
   "source": [
    "# 文档分割\n",
    "from langchain.text_splitter import CharacterTextSplitter\n",
    "text_splitter = CharacterTextSplitter(chunk_size = 128, chunk_overlap = 0) # 采用固定字符长度分割chunk_size=128\n",
    "documents = text_splitter.split_documents(documents)\n",
    "documents\n",
    "print(len(documents[0].page_content))  # 输出文本的字符数"
   ]
  },
  {
   "cell_type": "code",
   "execution_count": null,
   "id": "de9f2d65-c9b5-412f-bf3b-4d6282bc1e49",
   "metadata": {},
   "outputs": [],
   "source": []
  }
 ],
 "metadata": {
  "kernelspec": {
   "display_name": "Python 3 (ipykernel)",
   "language": "python",
   "name": "python3"
  },
  "language_info": {
   "codemirror_mode": {
    "name": "ipython",
    "version": 3
   },
   "file_extension": ".py",
   "mimetype": "text/x-python",
   "name": "python",
   "nbconvert_exporter": "python",
   "pygments_lexer": "ipython3",
   "version": "3.9.7"
  }
 },
 "nbformat": 4,
 "nbformat_minor": 5
}
