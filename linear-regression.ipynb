{
 "cells": [
  {
   "cell_type": "code",
   "execution_count": 12,
   "id": "91f2b371-5d3d-427f-8df9-2e5c757cb9d3",
   "metadata": {},
   "outputs": [],
   "source": [
    "import random\n",
    "import torch\n",
    "from d2l import torch as d2l"
   ]
  },
  {
   "cell_type": "code",
   "execution_count": 13,
   "id": "88a05795-fe13-4fa6-9bec-0a6e871163de",
   "metadata": {},
   "outputs": [],
   "source": [
    "# 生产数据集\n",
    "def synthetic_data(w,b,num_examples):\n",
    "    X = torch.normal(0,1,(num_examples,len(w)))\n",
    "    Y = torch.matmul(X, w) + b \n",
    "    Y += torch.normal(0, 0.01, Y.shape)\n",
    "    return X, Y.reshape((-1,1))"
   ]
  },
  {
   "cell_type": "markdown",
   "id": "bf8c0510-b716-4e43-802e-8790ae43fce6",
   "metadata": {},
   "source": [
    "PyTorch 的 torch.matmul 有一套广播兼容规则，专门处理 “高维张量与低维张量” 的乘法，核心逻辑是：\n",
    "将 1 维张量（向量）自动 “适配” 为与高维张量兼容的形状，前提是维度长度匹配。"
   ]
  },
  {
   "cell_type": "code",
   "execution_count": 14,
   "id": "77b35caf-fe6c-46ee-b9a0-ec9c5008821c",
   "metadata": {},
   "outputs": [
    {
     "name": "stdout",
     "output_type": "stream",
     "text": [
      "tensor([[ 0.0858,  0.3810],\n",
      "        [-0.3824, -0.4119],\n",
      "        [-0.4348, -0.2424],\n",
      "        [-0.9042,  0.0497],\n",
      "        [ 2.7399, -1.0111]]) \n",
      " tensor([[ 9.8119],\n",
      "        [ 4.4183],\n",
      "        [ 2.5063],\n",
      "        [-8.3395],\n",
      "        [69.8503]])\n"
     ]
    }
   ],
   "source": [
    "true_w = torch.tensor([20.0,-5.0])\n",
    "true_b = 10.0\n",
    "features,labels = synthetic_data(true_w,true_b,1000)\n",
    "print(features[:5],'\\n',labels[:5])"
   ]
  },
  {
   "cell_type": "code",
   "execution_count": 15,
   "id": "5ec19bc5-d702-42f1-8451-655896eee913",
   "metadata": {},
   "outputs": [],
   "source": [
    "# 读取数据集\n",
    "def data_iter(batch_size, features, labels):\n",
    "    num = len(features)\n",
    "    indices = list(range(num))\n",
    "    random.shuffle(indices)\n",
    "    for i in range(0, num, batch_size):\n",
    "        batch_indices = torch.tensor(indices[i:min(i + batch_size, num)])\n",
    "        yield features[batch_indices],labels[batch_indices]"
   ]
  },
  {
   "cell_type": "markdown",
   "id": "833edcb0-5dab-4ad9-bce1-654945f0973b",
   "metadata": {},
   "source": [
    "range(num) 会生成一个包含 0, 1, 2, ..., num-1 的可迭代对象\n",
    "list(range(num)) 将这个可迭代对象转换为列表形式"
   ]
  },
  {
   "cell_type": "markdown",
   "id": "e374e87a-5dcf-4387-9336-03f187403484",
   "metadata": {},
   "source": [
    "与 PyTorch 张量的索引机制兼容：\n",
    "当你使用features[batch_indices]这样的索引操作时，PyTorch 的张量需要接收 tensor 类型的索引，而不是普通的 Python 列表。如果直接使用列表作为索引，可能会导致错误或不符合预期的结果。\n",
    "支持 GPU 加速：\n",
    "如果后续需要将数据迁移到 GPU 上进行计算，tensor 类型的索引可以与 GPU 上的张量无缝配合，而 Python 列表则需要先转换为 tensor 才能在 GPU 上使用。"
   ]
  },
  {
   "cell_type": "code",
   "execution_count": 16,
   "id": "ed0fc67a-d591-4b84-898c-283a031a84b8",
   "metadata": {},
   "outputs": [
    {
     "name": "stdout",
     "output_type": "stream",
     "text": [
      "tensor([[-0.0693, -0.9389],\n",
      "        [ 0.1107,  1.4232],\n",
      "        [ 0.5632,  0.0621],\n",
      "        [-0.2045,  1.2542],\n",
      "        [ 1.0693, -1.6508],\n",
      "        [-0.4675, -0.3359],\n",
      "        [ 2.2012,  1.7287],\n",
      "        [ 0.5624,  0.8335],\n",
      "        [ 1.1232,  1.4098],\n",
      "        [-0.4698, -0.8444]]) \n",
      " tensor([[13.3274],\n",
      "        [ 5.0813],\n",
      "        [20.9632],\n",
      "        [-0.3705],\n",
      "        [39.6374],\n",
      "        [ 2.3237],\n",
      "        [45.3884],\n",
      "        [17.0877],\n",
      "        [25.4099],\n",
      "        [ 4.8086]])\n"
     ]
    }
   ],
   "source": [
    "batch_size = 10\n",
    "for X, y in data_iter(batch_size, features, labels):\n",
    "    print(X, '\\n', y)\n",
    "    break"
   ]
  },
  {
   "cell_type": "code",
   "execution_count": 17,
   "id": "914aa6ef-45e4-4950-8d78-eb0572568d5a",
   "metadata": {},
   "outputs": [],
   "source": [
    "# 初始化模型参数\n",
    "w = torch.normal(0, 0.01, size = (2, 1), requires_grad = True)\n",
    "b = torch.zeros(1, requires_grad = True)"
   ]
  },
  {
   "cell_type": "code",
   "execution_count": 18,
   "id": "ac91a19f-70ea-4d43-a2ed-e71f4f6bb02c",
   "metadata": {},
   "outputs": [],
   "source": [
    "# 模型\n",
    "def linreg(X, w, b):\n",
    "    return torch.matmul(X, w) + b"
   ]
  },
  {
   "cell_type": "code",
   "execution_count": 19,
   "id": "d63b1497-6c92-476c-993c-cf9861a3cb49",
   "metadata": {},
   "outputs": [],
   "source": [
    "# 损失函数 均方损失\n",
    "def squared_loss(y_hat, y):\n",
    "    return (y_hat - y.reshape(y_hat.shape)) ** 2 / 2"
   ]
  },
  {
   "cell_type": "code",
   "execution_count": 20,
   "id": "22b6eb80-2ff7-42a9-8350-48498611d69b",
   "metadata": {},
   "outputs": [],
   "source": [
    "# 优化算法\n",
    "def sgd(params, lr, batch_size):\n",
    "    with torch.no_grad():\n",
    "        for param in params:\n",
    "            param -= lr * param.grad\n",
    "            param.grad.zero_()"
   ]
  },
  {
   "cell_type": "code",
   "execution_count": 21,
   "id": "29c92d23-232c-4a1c-947e-e44b00a51378",
   "metadata": {},
   "outputs": [
    {
     "name": "stdout",
     "output_type": "stream",
     "text": [
      "epoch 1, loss 0.55139697\n",
      "w: tensor([[19.1314],\n",
      "        [-4.5967]], requires_grad=True),b: tensor([9.5636], requires_grad=True)\n",
      "epoch 2, loss 0.00135584\n",
      "w: tensor([[19.9604],\n",
      "        [-4.9726]], requires_grad=True),b: tensor([9.9803], requires_grad=True)\n",
      "epoch 3, loss 0.00005603\n",
      "w: tensor([[19.9980],\n",
      "        [-4.9979]], requires_grad=True),b: tensor([9.9989], requires_grad=True)\n"
     ]
    }
   ],
   "source": [
    "# 训练\n",
    "lr = 0.03\n",
    "num_epochs = 3\n",
    "net = linreg\n",
    "loss = squared_loss\n",
    "for epoch in range(num_epochs):\n",
    "    for X, y in data_iter(batch_size, features, labels):\n",
    "        l = loss(net(X, w, b), y)\n",
    "        l.mean().backward()\n",
    "        sgd([w, b], lr, batch_size)\n",
    "    with torch.no_grad():\n",
    "        train_l = loss(net(features, w, b), labels)\n",
    "        print(f'epoch {epoch + 1}, loss {float(train_l.mean()):.8f}')\n",
    "        print(f'w: {w},b: {b}')\n"
   ]
  },
  {
   "cell_type": "code",
   "execution_count": 22,
   "id": "97d73c6b-18dc-4e1d-b98c-fc8915a6203d",
   "metadata": {},
   "outputs": [
    {
     "name": "stdout",
     "output_type": "stream",
     "text": [
      "tensor([ 0.0020, -0.0021], grad_fn=<SubBackward0>) tensor([[19.9980],\n",
      "        [-4.9979]], requires_grad=True)\n",
      "tensor([0.0011], grad_fn=<RsubBackward1>) tensor([9.9989], requires_grad=True)\n"
     ]
    }
   ],
   "source": [
    "print(true_w - w.reshape(true_w.shape), w) # 把二维列向量，转化为一维张量\n",
    "print(true_b - b, b)"
   ]
  },
  {
   "cell_type": "code",
   "execution_count": null,
   "id": "f685f2f4-7b5f-4cf3-9e7a-443125e9b8b2",
   "metadata": {},
   "outputs": [],
   "source": []
  }
 ],
 "metadata": {
  "kernelspec": {
   "display_name": "Python 3 (ipykernel)",
   "language": "python",
   "name": "python3"
  },
  "language_info": {
   "codemirror_mode": {
    "name": "ipython",
    "version": 3
   },
   "file_extension": ".py",
   "mimetype": "text/x-python",
   "name": "python",
   "nbconvert_exporter": "python",
   "pygments_lexer": "ipython3",
   "version": "3.9.23"
  }
 },
 "nbformat": 4,
 "nbformat_minor": 5
}
